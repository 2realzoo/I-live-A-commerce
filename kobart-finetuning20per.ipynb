{
 "cells": [
  {
   "cell_type": "code",
   "execution_count": 1,
   "metadata": {},
   "outputs": [
    {
     "name": "stdout",
     "output_type": "stream",
     "text": [
      "Collecting pandas\n",
      "  Using cached pandas-2.2.3-cp312-cp312-manylinux_2_17_x86_64.manylinux2014_x86_64.whl.metadata (89 kB)\n",
      "Requirement already satisfied: numpy>=1.26.0 in /home/metaai2/anaconda3/envs/dongsub/lib/python3.12/site-packages (from pandas) (1.26.4)\n",
      "Requirement already satisfied: python-dateutil>=2.8.2 in /home/metaai2/anaconda3/envs/dongsub/lib/python3.12/site-packages (from pandas) (2.9.0.post0)\n",
      "Requirement already satisfied: pytz>=2020.1 in /home/metaai2/anaconda3/envs/dongsub/lib/python3.12/site-packages (from pandas) (2024.2)\n",
      "Collecting tzdata>=2022.7 (from pandas)\n",
      "  Using cached tzdata-2024.2-py2.py3-none-any.whl.metadata (1.4 kB)\n",
      "Requirement already satisfied: six>=1.5 in /home/metaai2/anaconda3/envs/dongsub/lib/python3.12/site-packages (from python-dateutil>=2.8.2->pandas) (1.17.0)\n",
      "Using cached pandas-2.2.3-cp312-cp312-manylinux_2_17_x86_64.manylinux2014_x86_64.whl (12.7 MB)\n",
      "Using cached tzdata-2024.2-py2.py3-none-any.whl (346 kB)\n",
      "Installing collected packages: tzdata, pandas\n",
      "Successfully installed pandas-2.2.3 tzdata-2024.2\n"
     ]
    }
   ],
   "source": [
    "!pip install pandas"
   ]
  },
  {
   "cell_type": "code",
   "execution_count": 2,
   "metadata": {},
   "outputs": [
    {
     "name": "stdout",
     "output_type": "stream",
     "text": [
      "총 데이터 개수: 40200\n"
     ]
    }
   ],
   "source": [
    "import os\n",
    "import json\n",
    "import pandas as pd\n",
    "\n",
    "# 3sent 폴더가 포함된 상위 경로 설정\n",
    "base_dir = r'/home/metaai2/byeonguk_work/I-live-A-commerce/TL1'  # 데이터가 저장된 상위 경로\n",
    "categories = ['c_event', 'culture', 'enter', 'fm_drama', 'fs_drama', 'history']\n",
    "\n",
    "data_list = []  # 본문 데이터를 저장할 리스트\n",
    "\n",
    "# 각 카테고리의 3sent 폴더에서 데이터 추출\n",
    "for category in categories:\n",
    "    three_sent_dir = os.path.join(base_dir, category, '20per')  # 3sent 폴더 경로\n",
    "\n",
    "    # 3sent 폴더의 모든 파일 처리\n",
    "    for filename in os.listdir(three_sent_dir):\n",
    "        file_path = os.path.join(three_sent_dir, filename)\n",
    "\n",
    "        # JSON 파일 읽기\n",
    "        with open(file_path, 'r', encoding='utf-8') as f:\n",
    "            data = json.load(f)\n",
    "\n",
    "            # 본문 데이터 추출\n",
    "            text = data.get('Meta', {}).get('passage', '')\n",
    "\n",
    "            # 본문이 존재하면 저장\n",
    "            if text:\n",
    "                data_list.append({'category': category, 'text': text})\n",
    "\n",
    "# 데이터프레임으로 변환 및 저장\n",
    "df = pd.DataFrame(data_list)\n",
    "df.to_csv('20per_data.csv', index=False, encoding='utf-8')\n",
    "print(f\"총 데이터 개수: {len(df)}\")\n"
   ]
  },
  {
   "cell_type": "code",
   "execution_count": 3,
   "metadata": {},
   "outputs": [
    {
     "name": "stdout",
     "output_type": "stream",
     "text": [
      "Requirement already satisfied: torch in /home/metaai2/anaconda3/envs/dongsub/lib/python3.12/site-packages (2.5.1+cu118)\n",
      "Requirement already satisfied: transformers in /home/metaai2/anaconda3/envs/dongsub/lib/python3.12/site-packages (4.46.2)\n",
      "Requirement already satisfied: pandas in /home/metaai2/anaconda3/envs/dongsub/lib/python3.12/site-packages (2.2.3)\n",
      "Requirement already satisfied: tqdm in /home/metaai2/anaconda3/envs/dongsub/lib/python3.12/site-packages (4.67.1)\n",
      "Requirement already satisfied: filelock in /home/metaai2/anaconda3/envs/dongsub/lib/python3.12/site-packages (from torch) (3.13.1)\n",
      "Requirement already satisfied: typing-extensions>=4.8.0 in /home/metaai2/anaconda3/envs/dongsub/lib/python3.12/site-packages (from torch) (4.12.2)\n",
      "Requirement already satisfied: networkx in /home/metaai2/anaconda3/envs/dongsub/lib/python3.12/site-packages (from torch) (3.2.1)\n",
      "Requirement already satisfied: jinja2 in /home/metaai2/anaconda3/envs/dongsub/lib/python3.12/site-packages (from torch) (3.1.3)\n",
      "Requirement already satisfied: fsspec in /home/metaai2/anaconda3/envs/dongsub/lib/python3.12/site-packages (from torch) (2024.2.0)\n",
      "Requirement already satisfied: nvidia-cuda-nvrtc-cu11==11.8.89 in /home/metaai2/anaconda3/envs/dongsub/lib/python3.12/site-packages (from torch) (11.8.89)\n",
      "Requirement already satisfied: nvidia-cuda-runtime-cu11==11.8.89 in /home/metaai2/anaconda3/envs/dongsub/lib/python3.12/site-packages (from torch) (11.8.89)\n",
      "Requirement already satisfied: nvidia-cuda-cupti-cu11==11.8.87 in /home/metaai2/anaconda3/envs/dongsub/lib/python3.12/site-packages (from torch) (11.8.87)\n",
      "Requirement already satisfied: nvidia-cudnn-cu11==9.1.0.70 in /home/metaai2/anaconda3/envs/dongsub/lib/python3.12/site-packages (from torch) (9.1.0.70)\n",
      "Requirement already satisfied: nvidia-cublas-cu11==11.11.3.6 in /home/metaai2/anaconda3/envs/dongsub/lib/python3.12/site-packages (from torch) (11.11.3.6)\n",
      "Requirement already satisfied: nvidia-cufft-cu11==10.9.0.58 in /home/metaai2/anaconda3/envs/dongsub/lib/python3.12/site-packages (from torch) (10.9.0.58)\n",
      "Requirement already satisfied: nvidia-curand-cu11==10.3.0.86 in /home/metaai2/anaconda3/envs/dongsub/lib/python3.12/site-packages (from torch) (10.3.0.86)\n",
      "Requirement already satisfied: nvidia-cusolver-cu11==11.4.1.48 in /home/metaai2/anaconda3/envs/dongsub/lib/python3.12/site-packages (from torch) (11.4.1.48)\n",
      "Requirement already satisfied: nvidia-cusparse-cu11==11.7.5.86 in /home/metaai2/anaconda3/envs/dongsub/lib/python3.12/site-packages (from torch) (11.7.5.86)\n",
      "Requirement already satisfied: nvidia-nccl-cu11==2.21.5 in /home/metaai2/anaconda3/envs/dongsub/lib/python3.12/site-packages (from torch) (2.21.5)\n",
      "Requirement already satisfied: nvidia-nvtx-cu11==11.8.86 in /home/metaai2/anaconda3/envs/dongsub/lib/python3.12/site-packages (from torch) (11.8.86)\n",
      "Requirement already satisfied: triton==3.1.0 in /home/metaai2/anaconda3/envs/dongsub/lib/python3.12/site-packages (from torch) (3.1.0)\n",
      "Requirement already satisfied: setuptools in /home/metaai2/anaconda3/envs/dongsub/lib/python3.12/site-packages (from torch) (75.6.0)\n",
      "Requirement already satisfied: sympy==1.13.1 in /home/metaai2/anaconda3/envs/dongsub/lib/python3.12/site-packages (from torch) (1.13.1)\n",
      "Requirement already satisfied: mpmath<1.4,>=1.1.0 in /home/metaai2/anaconda3/envs/dongsub/lib/python3.12/site-packages (from sympy==1.13.1->torch) (1.3.0)\n",
      "Requirement already satisfied: huggingface-hub<1.0,>=0.23.2 in /home/metaai2/anaconda3/envs/dongsub/lib/python3.12/site-packages (from transformers) (0.27.1)\n",
      "Requirement already satisfied: numpy>=1.17 in /home/metaai2/anaconda3/envs/dongsub/lib/python3.12/site-packages (from transformers) (1.26.4)\n",
      "Requirement already satisfied: packaging>=20.0 in /home/metaai2/anaconda3/envs/dongsub/lib/python3.12/site-packages (from transformers) (24.2)\n",
      "Requirement already satisfied: pyyaml>=5.1 in /home/metaai2/anaconda3/envs/dongsub/lib/python3.12/site-packages (from transformers) (6.0.2)\n",
      "Requirement already satisfied: regex!=2019.12.17 in /home/metaai2/anaconda3/envs/dongsub/lib/python3.12/site-packages (from transformers) (2024.11.6)\n",
      "Requirement already satisfied: requests in /home/metaai2/anaconda3/envs/dongsub/lib/python3.12/site-packages (from transformers) (2.32.3)\n",
      "Requirement already satisfied: safetensors>=0.4.1 in /home/metaai2/anaconda3/envs/dongsub/lib/python3.12/site-packages (from transformers) (0.5.2)\n",
      "Requirement already satisfied: tokenizers<0.21,>=0.20 in /home/metaai2/anaconda3/envs/dongsub/lib/python3.12/site-packages (from transformers) (0.20.3)\n",
      "Requirement already satisfied: python-dateutil>=2.8.2 in /home/metaai2/anaconda3/envs/dongsub/lib/python3.12/site-packages (from pandas) (2.9.0.post0)\n",
      "Requirement already satisfied: pytz>=2020.1 in /home/metaai2/anaconda3/envs/dongsub/lib/python3.12/site-packages (from pandas) (2024.2)\n",
      "Requirement already satisfied: tzdata>=2022.7 in /home/metaai2/anaconda3/envs/dongsub/lib/python3.12/site-packages (from pandas) (2024.2)\n",
      "Requirement already satisfied: six>=1.5 in /home/metaai2/anaconda3/envs/dongsub/lib/python3.12/site-packages (from python-dateutil>=2.8.2->pandas) (1.17.0)\n",
      "Requirement already satisfied: MarkupSafe>=2.0 in /home/metaai2/anaconda3/envs/dongsub/lib/python3.12/site-packages (from jinja2->torch) (2.1.5)\n",
      "Requirement already satisfied: charset_normalizer<4,>=2 in /home/metaai2/anaconda3/envs/dongsub/lib/python3.12/site-packages (from requests->transformers) (3.4.1)\n",
      "Requirement already satisfied: idna<4,>=2.5 in /home/metaai2/anaconda3/envs/dongsub/lib/python3.12/site-packages (from requests->transformers) (3.10)\n",
      "Requirement already satisfied: urllib3<3,>=1.21.1 in /home/metaai2/anaconda3/envs/dongsub/lib/python3.12/site-packages (from requests->transformers) (2.3.0)\n",
      "Requirement already satisfied: certifi>=2017.4.17 in /home/metaai2/anaconda3/envs/dongsub/lib/python3.12/site-packages (from requests->transformers) (2024.12.14)\n"
     ]
    }
   ],
   "source": [
    "!pip install torch transformers pandas tqdm\n"
   ]
  },
  {
   "cell_type": "code",
   "execution_count": 4,
   "metadata": {},
   "outputs": [
    {
     "name": "stderr",
     "output_type": "stream",
     "text": [
      "/home/metaai2/anaconda3/envs/dongsub/lib/python3.12/site-packages/tqdm/auto.py:21: TqdmWarning: IProgress not found. Please update jupyter and ipywidgets. See https://ipywidgets.readthedocs.io/en/stable/user_install.html\n",
      "  from .autonotebook import tqdm as notebook_tqdm\n",
      "You passed along `num_labels=3` with an incompatible id to label map: {'0': 'NEGATIVE', '1': 'POSITIVE'}. The number of labels wil be overwritten to 2.\n"
     ]
    }
   ],
   "source": [
    "import pandas as pd\n",
    "from torch.utils.data import Dataset, DataLoader\n",
    "from transformers import PreTrainedTokenizerFast\n",
    "\n",
    "# KoBART 토크나이저 로드\n",
    "tokenizer = PreTrainedTokenizerFast.from_pretrained('gogamza/kobart-base-v2')\n",
    "\n",
    "# 학습 데이터 로드\n",
    "data = pd.read_csv('20per_data.csv')\n",
    "\n",
    "# 데이터셋 클래스 정의\n",
    "class KoBARTDataset(Dataset):\n",
    "    def __init__(self, tokenizer, data, max_len=512):\n",
    "        self.tokenizer = tokenizer\n",
    "        self.data = data\n",
    "        self.max_len = max_len\n",
    "\n",
    "    def __len__(self):\n",
    "        return len(self.data)\n",
    "\n",
    "    def __getitem__(self, idx):\n",
    "        text = self.data.loc[idx, 'text']  # 본문 데이터\n",
    "\n",
    "        # 입력 텍스트와 출력 텍스트 생성\n",
    "        inputs = self.tokenizer(\n",
    "            text, max_length=self.max_len, truncation=True, return_tensors='pt', padding='max_length'\n",
    "        )\n",
    "        targets = self.tokenizer(\n",
    "            text, max_length=self.max_len, truncation=True, return_tensors='pt', padding='max_length'\n",
    "        )\n",
    "\n",
    "        return {\n",
    "            'input_ids': inputs['input_ids'].squeeze(),\n",
    "            'attention_mask': inputs['attention_mask'].squeeze(),\n",
    "            'labels': targets['input_ids'].squeeze()\n",
    "        }\n",
    "\n",
    "# 데이터셋 및 DataLoader 생성\n",
    "dataset = KoBARTDataset(tokenizer, data)\n",
    "dataloader = DataLoader(dataset, batch_size=8, shuffle=True)\n"
   ]
  },
  {
   "cell_type": "code",
   "execution_count": 5,
   "metadata": {},
   "outputs": [
    {
     "name": "stderr",
     "output_type": "stream",
     "text": [
      "You passed along `num_labels=3` with an incompatible id to label map: {'0': 'NEGATIVE', '1': 'POSITIVE'}. The number of labels wil be overwritten to 2.\n",
      "/home/metaai2/anaconda3/envs/dongsub/lib/python3.12/site-packages/transformers/optimization.py:591: FutureWarning: This implementation of AdamW is deprecated and will be removed in a future version. Use the PyTorch implementation torch.optim.AdamW instead, or set `no_deprecation_warning=True` to disable this warning\n",
      "  warnings.warn(\n"
     ]
    }
   ],
   "source": [
    "from transformers import BartForConditionalGeneration, AdamW\n",
    "from tqdm import tqdm\n",
    "\n",
    "# KoBART 모델 로드\n",
    "model = BartForConditionalGeneration.from_pretrained('gogamza/kobart-base-v2')\n",
    "\n",
    "# 옵티마이저 설정\n",
    "optimizer = AdamW(model.parameters(), lr=5e-5)\n",
    "\n",
    "# 학습 설정\n",
    "epochs = 3  # 학습 에포크 수\n"
   ]
  },
  {
   "cell_type": "code",
   "execution_count": 6,
   "metadata": {},
   "outputs": [
    {
     "name": "stdout",
     "output_type": "stream",
     "text": [
      "사용 중인 디바이스: cuda\n"
     ]
    },
    {
     "name": "stderr",
     "output_type": "stream",
     "text": [
      "100%|██████████| 5025/5025 [11:06<00:00,  7.54it/s]\n"
     ]
    },
    {
     "name": "stdout",
     "output_type": "stream",
     "text": [
      "Epoch 1 Loss: 0.015812587825127063\n"
     ]
    },
    {
     "name": "stderr",
     "output_type": "stream",
     "text": [
      "100%|██████████| 5025/5025 [11:07<00:00,  7.53it/s]\n"
     ]
    },
    {
     "name": "stdout",
     "output_type": "stream",
     "text": [
      "Epoch 2 Loss: 0.0016382119948438552\n"
     ]
    },
    {
     "name": "stderr",
     "output_type": "stream",
     "text": [
      "100%|██████████| 5025/5025 [11:07<00:00,  7.53it/s]"
     ]
    },
    {
     "name": "stdout",
     "output_type": "stream",
     "text": [
      "Epoch 3 Loss: 0.0014195657006051653\n"
     ]
    },
    {
     "name": "stderr",
     "output_type": "stream",
     "text": [
      "\n"
     ]
    }
   ],
   "source": [
    "import torch\n",
    "from tqdm import tqdm\n",
    "\n",
    "# GPU 디바이스 설정\n",
    "device = torch.device('cuda' if torch.cuda.is_available() else 'cpu')\n",
    "print(f\"사용 중인 디바이스: {device}\")\n",
    "\n",
    "# 모델과 데이터를 GPU로 전송\n",
    "model = model.to(device)\n",
    "\n",
    "for epoch in range(epochs):\n",
    "    model.train()\n",
    "    epoch_loss = 0\n",
    "\n",
    "    for batch in tqdm(dataloader):\n",
    "        # 배치 데이터를 GPU로 전송\n",
    "        input_ids = batch['input_ids'].to(device)\n",
    "        attention_mask = batch['attention_mask'].to(device)\n",
    "        labels = batch['labels'].to(device)\n",
    "\n",
    "        optimizer.zero_grad()\n",
    "\n",
    "        # 모델 출력 및 손실 계산\n",
    "        outputs = model(\n",
    "            input_ids=input_ids,\n",
    "            attention_mask=attention_mask,\n",
    "            labels=labels\n",
    "        )\n",
    "        loss = outputs.loss\n",
    "        loss.backward()\n",
    "        optimizer.step()\n",
    "\n",
    "        epoch_loss += loss.item()\n",
    "\n",
    "    print(f\"Epoch {epoch + 1} Loss: {epoch_loss / len(dataloader)}\")\n"
   ]
  },
  {
   "cell_type": "code",
   "execution_count": 7,
   "metadata": {},
   "outputs": [
    {
     "name": "stderr",
     "output_type": "stream",
     "text": [
      "/home/metaai2/anaconda3/envs/dongsub/lib/python3.12/site-packages/transformers/modeling_utils.py:2817: UserWarning: Moving the following attributes in the config to the generation config: {'forced_eos_token_id': 1}. You are seeing this warning because you've set generation parameters in the model config, as opposed to in the generation config.\n",
      "  warnings.warn(\n"
     ]
    },
    {
     "data": {
      "text/plain": [
       "('./kobart-finetuned-20per/tokenizer_config.json',\n",
       " './kobart-finetuned-20per/special_tokens_map.json',\n",
       " './kobart-finetuned-20per/tokenizer.json')"
      ]
     },
     "execution_count": 7,
     "metadata": {},
     "output_type": "execute_result"
    }
   ],
   "source": [
    "model.save_pretrained('./kobart-finetuned-20per')\n",
    "tokenizer.save_pretrained('./kobart-finetuned-20per')\n"
   ]
  },
  {
   "cell_type": "code",
   "execution_count": 8,
   "metadata": {},
   "outputs": [
    {
     "ename": "SyntaxError",
     "evalue": "unterminated string literal (detected at line 7) (404459336.py, line 7)",
     "output_type": "error",
     "traceback": [
      "\u001b[0;36m  Cell \u001b[0;32mIn[8], line 7\u001b[0;36m\u001b[0m\n\u001b[0;31m    test_text = \"지난해 5월 숨진 '로켓배송' 기사 정슬기 씨.\u001b[0m\n\u001b[0m                ^\u001b[0m\n\u001b[0;31mSyntaxError\u001b[0m\u001b[0;31m:\u001b[0m unterminated string literal (detected at line 7)\n"
     ]
    }
   ],
   "source": [
    "def summarize(text, model, tokenizer):\n",
    "    inputs = tokenizer(text, return_tensors=\"pt\", truncation=True, max_length=512)\n",
    "    summary_ids = model.generate(inputs['input_ids'], max_length=150, min_length=40, length_penalty=2.0)\n",
    "    return tokenizer.decode(summary_ids[0], skip_special_tokens=True)\n",
    "\n",
    "# 테스트 예시\n",
    "test_text = \"지난해 5월 숨진 '로켓배송' 기사 정슬기 씨.\n",
    "\n",
    "쿠팡CLS 대리점과 근로계약이 아닌 위탁계약을 맺고 일했습니다.\n",
    "\n",
    "과로사로 산재를 인정받은 정 씨는 이른바 '3회전' 배송 방식으로 하루 평균 279건을 배송했습니다.\n",
    "\n",
    "새벽 배송을 마치기 위해 밤 9시부터 오전 7시까지 배송 지역을 매일 세 번이나 돈 겁니다.\n",
    "\n",
    "[정금석/고 정슬기 씨 아버지/지난 14일 : \"(배송)캠프하고 제 아들이 배송한 지역이 상봉동인데 상봉동을 그게 한 20km 된답니다. 거기를 세 번 왔다 갔다 하는 거예요.\"]\n",
    "\n",
    "이런 업무 강도, 숨진 정 씨만의 일이 아닙니다.\n",
    "\n",
    "KBS가 입수한 고용노동부의 설문조사 결과입니다.\n",
    "\n",
    "응답한 대리점 배송기사 767명 가운데 76.8%, 네 명 중 세 명이 야간에 3회전 배송을 하고 있었습니다.\n",
    "\n",
    "하루 250건 이상을 배송한다는 응답도 76.4%에 달했습니다.\n",
    "\n",
    "쿠팡CLS에 직고용된 기사들은 3회전 배송 비율이 38%, 250건 이상 배송은 10%대인 것과 차이가 큽니다.\n",
    "\n",
    "고강도 업무지만 노동 시간도 법정 근로 시간보다 길었습니다.\n",
    "\n",
    "하루 평균 근무 시간은 9시간 26분, 일주일에 평균 5.5일 일했습니다.\n",
    "\n",
    "특히 폭우, 폭설 등 악천후에도 \"무조건 배송을 한다\"는 응답이 전체의 77%나 됐습니다.\n",
    "\n",
    "[김주영/국회 환경노동위원/더불어민주당 : \"몸에 무리가 올 수밖에 없는 노동 환경이라는 것이 이번 실태조사를 통해 나타났습니다. 좀 더 세심한 근로 시간 규제가 필요하다고 (볼 수 있습니다).\"]\n",
    "\n",
    "퀵플렉서로 불리는 이들 특수고용직 배송기사들은 쿠팡에 간접 고용된 형태로 건별로 배송 수수료를 받습니다.\n",
    "\n",
    "고용부는 최근 이들이 근로기준법상 근로자가 아니라면서도, 노동 환경 개선이 필요하다고 지적했습니다.\n",
    "\n",
    "쿠팡 측은 이번 조사 결과에 대해 별도 입장을 내지 않았습니다.\n",
    "\n",
    "21일 국회에선 '쿠팡 청문회'가 예정돼 있습니다.\n",
    "\n",
    "KBS 뉴스 김채린입니다.\"\n",
    "print(\"본문:\", test_text)\n",
    "print(\"요약 결과:\", summarize(test_text, model, tokenizer))\n"
   ]
  },
  {
   "cell_type": "code",
   "execution_count": null,
   "metadata": {},
   "outputs": [],
   "source": []
  }
 ],
 "metadata": {
  "kernelspec": {
   "display_name": "dongsub",
   "language": "python",
   "name": "python3"
  },
  "language_info": {
   "codemirror_mode": {
    "name": "ipython",
    "version": 3
   },
   "file_extension": ".py",
   "mimetype": "text/x-python",
   "name": "python",
   "nbconvert_exporter": "python",
   "pygments_lexer": "ipython3",
   "version": "3.12.4"
  }
 },
 "nbformat": 4,
 "nbformat_minor": 2
}
