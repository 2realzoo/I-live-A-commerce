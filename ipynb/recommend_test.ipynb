{
 "cells": [
  {
   "cell_type": "code",
   "execution_count": 1,
   "metadata": {},
   "outputs": [],
   "source": [
    "import os\n",
    "import sys\n",
    "import urllib.request\n",
    "import json\n",
    "import pandas as pd"
   ]
  },
  {
   "cell_type": "code",
   "execution_count": 2,
   "metadata": {},
   "outputs": [],
   "source": [
    "client_id = 'iID7I7Xl0gZ1VFnQlbKC'\n",
    "client_secret = '8o4nCupPH5'"
   ]
  },
  {
   "cell_type": "code",
   "execution_count": 3,
   "metadata": {},
   "outputs": [],
   "source": [
    "def get_search_url(search_txt, start_pg, disp_num):\n",
    "    base = 'https://openapi.naver.com/v1/search/shop.json'\n",
    "    query = '?query=' + urllib.parse.quote(search_txt)\n",
    "    start = '&start' + str(start_pg)\n",
    "    disp = '&display' + str(disp_num)\n",
    "    url = base + query + disp + start    \n",
    "    return url "
   ]
  },
  {
   "cell_type": "code",
   "execution_count": 4,
   "metadata": {},
   "outputs": [],
   "source": [
    "def get_search_result(url):\n",
    "    request = urllib.request.Request(url)\n",
    "    request.add_header('X-Naver-Client-Id', client_id)\n",
    "    request.add_header('X-Naver-Client-Secret', client_secret)\n",
    "    response = urllib.request.urlopen(request)\n",
    "    return json.loads(response.read().decode('utf-8'))"
   ]
  },
  {
   "cell_type": "code",
   "execution_count": 5,
   "metadata": {},
   "outputs": [],
   "source": [
    "def delete_tag(input_str):\n",
    "    input_str = input_str.replace('<b>', '')\n",
    "    input_str = input_str.replace('</b>', '')\n",
    "    input_str = input_str.replace('\\xa0', '')\n",
    "    return input_str"
   ]
  },
  {
   "cell_type": "code",
   "execution_count": 6,
   "metadata": {},
   "outputs": [],
   "source": [
    "def get_frame(json_data):\n",
    "    title = [delete_tag(each['title']) for each in json_data['items']]\n",
    "    lprice = [each['lprice'] for each in json_data['items']]\n",
    "    link = [each['link'] for each in json_data['items']]\n",
    "    mall_name = [each['mallName'] for each in json_data['items']]\n",
    "    brand = [each['brand'] for each in json_data['items']]\n",
    "    category1 = [each['category1'] for each in json_data['items']]\n",
    "    category2 = [each['category2'] for each in json_data['items']]\n",
    "       \n",
    "    df = pd.DataFrame({\n",
    "        'title':title,\n",
    "        'lprice':lprice,\n",
    "        'link':link,\n",
    "        'mall':mall_name,\n",
    "        'brand':brand,\n",
    "        'category1':category1,\n",
    "        'category2':category2,        \n",
    "    }, columns=['title', 'lprice', 'link', 'mall', 'brand', 'category1', 'category2'])\n",
    "    \n",
    "    return df"
   ]
  },
  {
   "cell_type": "code",
   "execution_count": null,
   "metadata": {},
   "outputs": [],
   "source": []
  }
 ],
 "metadata": {
  "kernelspec": {
   "display_name": ".venv",
   "language": "python",
   "name": "python3"
  },
  "language_info": {
   "codemirror_mode": {
    "name": "ipython",
    "version": 3
   },
   "file_extension": ".py",
   "mimetype": "text/x-python",
   "name": "python",
   "nbconvert_exporter": "python",
   "pygments_lexer": "ipython3",
   "version": "3.12.4"
  }
 },
 "nbformat": 4,
 "nbformat_minor": 2
}
